{
  "cells": [
    {
      "cell_type": "markdown",
      "metadata": {
        "id": "cZhoTmo5DWEa"
      },
      "source": [
        "# Assignment 1.1"
      ]
    },
    {
      "cell_type": "markdown",
      "metadata": {
        "id": "X62xRdJ5DWEc"
      },
      "source": [
        "Name: Manoj Patra\n",
        "\n",
        "Date: 10 May, 2025"
      ]
    },
    {
      "cell_type": "markdown",
      "metadata": {
        "id": "Ut4x4FNnDWEc"
      },
      "source": [
        "For this assignment, you will refer to the textbook to solve the practice exercises. **Use Python to answer any coding problems (not R, even if indicated in your textbook).** Use Jupyter Notebook, Google Colab, or a similar software program to complete your assignment. Submit your answers as a **PDF or HTML** file. As a best practice, always label your axes and provide titles for any graphs generated on this assignment. Round all quantitative answers to 2 decimal places."
      ]
    },
    {
      "cell_type": "markdown",
      "metadata": {
        "id": "_otmer-oDWEd"
      },
      "source": [
        "## **Problem # 1.1.**\n",
        "In the 2018 election for Senate in California, a CNN exit poll of 1882 voters stated that 52.5% voted for the Democratic candidate, Diane Feinstein. Of all 11.1 million voters, 54.2% voted for Feinstein.\n",
        "\n",
        "(a) What was the (i) subject, (ii) sample, (iii) population?\n"
      ]
    },
    {
      "cell_type": "markdown",
      "metadata": {
        "id": "8_5fqxdlDWEd"
      },
      "source": [
        "```\n",
        "(a) The answers are as follows:\n",
        "\n",
        "(i)  Each individual voter in the 2018 election for Senate in California is the subject.\n",
        "\n",
        "(ii) The 1882 voters in the CNN exit poll is the sample.\n",
        "\n",
        "(iii) The population is all 11.1 million voters in the 2018 election for Senate in California.\n",
        "\n",
        "```"
      ]
    },
    {
      "cell_type": "markdown",
      "metadata": {
        "id": "mk6sniWVDWEd"
      },
      "source": [
        "## **Problem # 1.2.**\n",
        "The `Students` data file at [http://stat4ds.rwth-aachen.de/data/Students.dat](http://stat4ds.rwth-aachen.de/data/Students.dat) responses of a class of 60\n",
        "social science graduate students at the University of Florida to a questionnaire that asked about *gender* (1 = female, 0 = male), *age*, *hsgpa* = high school GPA (on a four-point scale), cogpa = college GPA, *dhome* = distance (in miles) of the campus from your home town, *dres* = distance (in miles) of the classroom from your current residence, *tv* = average number of hours per week that you watch TV, *sport* = average number of hours per week that you participate in sports or have other physical exercise, *news* = number of\n",
        "times a week you read a newspaper, *aids* = number of people you know who have died from AIDS or who\n",
        "are HIV+, *veg* = whether you are a vegetarian (1 = yes, 0 = no), *affil* = political affiliation (1 = Democrat, 2\n",
        "= Republican, 3 = independent), *ideol* = political ideology (1 = very liberal, 2 = liberal, 3 = slightly liberal, 4\n",
        "= moderate, 5 = slightly conservative, 6 = conservative, 7 = very conservative), *relig* = how often you\n",
        "attend religious services (0 = never, 1 = occasionally, 2 = most weeks, 3 = every week), *abor* = opinion\n",
        "about whether abortion should be legal in the first three months of pregnancy (1 = yes, 0 = no), *affirm* =\n",
        "support affirmative action (1 = yes, 0 = no), and *life* = belief in life after death (1 = yes, 2 = no, 3 =\n",
        "undecided). You will use this data file for some exercises in this book.\n"
      ]
    },
    {
      "cell_type": "markdown",
      "metadata": {
        "id": "20pxYzDaDWEe"
      },
      "source": [
        "(a) Practice accessing a data file for statistical analysis with your software by going to the book’s\n",
        "     website and copying and then displaying this data file.\n"
      ]
    },
    {
      "cell_type": "markdown",
      "metadata": {
        "id": "KsryEazVDWEe"
      },
      "source": [
        "```\n",
        "\n",
        "(a) The code below demonstrates loading the dataset from the book's website and copying and then displaying the data file:\n",
        "\n",
        "```"
      ]
    },
    {
      "cell_type": "code",
      "execution_count": 1,
      "metadata": {
        "colab": {
          "base_uri": "https://localhost:8080/"
        },
        "id": "99y8yntbDWEe",
        "outputId": "434f1427-5763-4411-e716-82caf30f388b"
      },
      "outputs": [
        {
          "name": "stdout",
          "output_type": "stream",
          "text": [
            "First five rows of the dataset:\n",
            "   subject  gender  age  hsgpa  cogpa  dhome  dres    tv  sport  news  aids  \\\n",
            "0        1       0   32    2.2    3.5      0   5.0   3.0      5     0     0   \n",
            "1        2       1   23    2.1    3.5   1200   0.3  15.0      7     5     6   \n",
            "2        3       1   27    3.3    3.0   1300   1.5   0.0      4     3     0   \n",
            "3        4       1   35    3.5    3.2   1500   8.0   5.0      5     6     3   \n",
            "4        5       0   23    3.1    3.5   1600  10.0   6.0      6     3     0   \n",
            "\n",
            "   veg  affil  ideol  relig  abor  affirm  life  \n",
            "0    0      2      6      2     0       0     1  \n",
            "1    1      1      2      1     1       1     3  \n",
            "2    1      1      2      2     1       1     3  \n",
            "3    0      3      4      1     1       1     2  \n",
            "4    0      3      1      0     1       0     2  \n",
            "\n",
            "Number of rows and columns in the dataset:(60, 18)\n",
            "\n",
            "Column names:\n",
            "['subject', 'gender', 'age', 'hsgpa', 'cogpa', 'dhome', 'dres', 'tv', 'sport', 'news', 'aids', 'veg', 'affil', 'ideol', 'relig', 'abor', 'affirm', 'life']\n",
            "\n",
            "Data types:\n",
            "subject      int64\n",
            "gender       int64\n",
            "age          int64\n",
            "hsgpa      float64\n",
            "cogpa      float64\n",
            "dhome        int64\n",
            "dres       float64\n",
            "tv         float64\n",
            "sport        int64\n",
            "news         int64\n",
            "aids         int64\n",
            "veg          int64\n",
            "affil        int64\n",
            "ideol        int64\n",
            "relig        int64\n",
            "abor         int64\n",
            "affirm       int64\n",
            "life         int64\n",
            "dtype: object\n"
          ]
        }
      ],
      "source": [
        "import pandas as pd\n",
        "\n",
        "# Load the data\n",
        "url = 'http://stat4ds.rwth-aachen.de/data/Students.dat'\n",
        "students_data = pd.read_csv(url, sep='\\s+')\n",
        "\n",
        "# Print the first five rows of the dataset\n",
        "print(\"First five rows of the dataset:\")\n",
        "print(students_data.head())\n",
        "\n",
        "# Print the number of rows and columns in the dataset\n",
        "print(f\"\\nNumber of rows and columns in the dataset:\"\n",
        "      f\"{students_data.shape}\")\n",
        "\n",
        "# Print the column names\n",
        "print(\"\\nColumn names:\")\n",
        "print(students_data.columns.tolist())\n",
        "\n",
        "# Print the data types of the columns\n",
        "print(\"\\nData types:\")\n",
        "print(students_data.dtypes)\n"
      ]
    },
    {
      "cell_type": "markdown",
      "metadata": {
        "id": "VuLBZ27tDWEf"
      },
      "source": [
        "(b) Using responses on *abor*, state a question that could be addressed with (i) descriptive\n",
        "     statistics, (ii) inferential statistics.\n"
      ]
    },
    {
      "cell_type": "markdown",
      "metadata": {
        "id": "_xU5uknsDWEf"
      },
      "source": [
        "```\n",
        "\n",
        "The `abor` variable indicates whether abortion should be legal in the first three months of pregnancy (1 = yes, 0 = no).\n",
        "\n",
        "(i) Question that can be addressed with descriptive statistics\n",
        "\n",
        "    - What percentage of the students support abortion?\n",
        "\n",
        "(ii) Question that can be addressed with inferential statistics\n",
        "\n",
        "    - Is there a significant difference in abortion support between male and female students?\n",
        "\n",
        "```"
      ]
    },
    {
      "cell_type": "markdown",
      "metadata": {
        "id": "mSYSfjA3DWEf"
      },
      "source": [
        "## **Problem # 1.3.**\n",
        "Identify each of the following variables as categorical or quantitative: (a) Number of smartphones that you own; (b) County of residence; (c) Choice of diet (vegetarian, nonvegetarian); (d) Distance, in kilometers, commute to work"
      ]
    },
    {
      "cell_type": "markdown",
      "metadata": {
        "id": "oqYCogKuDWEf"
      },
      "source": [
        "```\n",
        "\n",
        "(a) Number of smartphones that you own - Quantitative\n",
        "(b) County of residence - Categorical\n",
        "(c) Choice of diet (vegetarian, nonvegetarian) - Categorical\n",
        "(d) Distance, in kilometers, commute to work - Quantitative\n",
        "\n",
        "```"
      ]
    },
    {
      "cell_type": "markdown",
      "metadata": {
        "id": "3SZmaiqHDWEg"
      },
      "source": [
        "## **Problem # 1.4.**\n",
        "Give an example of a variable that is (a) categorical; (b) quantitative; (c) discrete; (d) continuous"
      ]
    },
    {
      "cell_type": "markdown",
      "metadata": {
        "id": "tbl5ix99DWEg"
      },
      "source": [
        "```\n",
        "\n",
        "The examples of different variable types are as follows:\n",
        "\n",
        "(a) Categorical - Mode of transport such as car, bus, walk, etc.\n",
        "(b) Quantitative - Height (in cm)\n",
        "(c) Discrete - Number of books read in a month\n",
        "(d) Continuous - Distance a person walks in a day\n",
        "\n",
        "```"
      ]
    },
    {
      "cell_type": "markdown",
      "metadata": {
        "id": "eE-j87JBDWEg"
      },
      "source": [
        "## **Problem # 1.10.**\n",
        "Analyze the `Carbon_West` ([http://stat4ds.rwth-aachen.de/data/Carbon_West.dat](http://stat4ds.rwth-aachen.de/data/Carbon_West.dat)) data file at the book’s website by **(a)** constructing a frequency distribution and  a histogram, **(b)** finding the mean, median, and standard deviation. Interpret each."
      ]
    },
    {
      "cell_type": "markdown",
      "metadata": {
        "id": "dyyGBJLoDWEg"
      },
      "source": [
        "```\n",
        "\n",
        "(a) The frequency distribution and histogram representations are as follows:\n",
        "\n",
        "```"
      ]
    },
    {
      "cell_type": "code",
      "execution_count": 2,
      "metadata": {
        "colab": {
          "base_uri": "https://localhost:8080/",
          "height": 755
        },
        "id": "BjLrDMY4DWEg",
        "outputId": "1a8320f1-5a90-40c0-ab94-602b7c7b4083"
      },
      "outputs": [
        {
          "name": "stdout",
          "output_type": "stream",
          "text": [
            "Frequency Distribution:\n",
            "CO2_bin\n",
            "(2.0, 4.071]         4\n",
            "(4.071, 6.143]      14\n",
            "(6.143, 8.214]       7\n",
            "(8.214, 10.286]      6\n",
            "(10.286, 12.357]     0\n",
            "(12.357, 14.429]     0\n",
            "(14.429, 16.5]       3\n",
            "Name: count, dtype: int64\n",
            "--------------------------------\n"
          ]
        },
        {
          "data": {
            "image/png": "[encoded data removed]",
            "text/plain": [
              "<Figure size 1000x600 with 1 Axes>"
            ]
          },
          "metadata": {},
          "output_type": "display_data"
        }
      ],
      "source": [
        "import pandas as pd\n",
        "import numpy as np\n",
        "import matplotlib.pyplot as plt\n",
        "\n",
        "# Load the data\n",
        "url = 'http://stat4ds.rwth-aachen.de/data/Carbon_West.dat'\n",
        "carbon_west_data = pd.read_csv(url, sep='\\s+')\n",
        "\n",
        "# Create a frequency distribution of CO2 emissions\n",
        "# Get the optimal number of bins automatically\n",
        "_, bins = np.histogram(carbon_west_data['CO2'], bins=\"auto\")\n",
        "# Create bins for CO2 values and add them as a new column\n",
        "carbon_west_data['CO2_bin'] = pd.cut(carbon_west_data['CO2'],\n",
        "                                     bins=bins)\n",
        "\n",
        "# Count the number of observations in each\n",
        "# bin and sort in ascending order\n",
        "frequency_distribution = \\\n",
        "    carbon_west_data['CO2_bin'].value_counts().sort_index()\n",
        "print(\"Frequency Distribution:\")\n",
        "print(frequency_distribution)\n",
        "print(\"--------------------------------\")\n",
        "\n",
        "# Create a histogram with counts on the y-axis\n",
        "plt.figure(figsize=(10, 6))\n",
        "plt.hist(carbon_west_data['CO2'], bins=bins, edgecolor='black')\n",
        "\n",
        "# Add title and labels\n",
        "plt.title('Histogram of CO2 Emissions per Nation')\n",
        "plt.xlabel('CO2 Emissions')\n",
        "plt.ylabel('Number of Nations')\n",
        "plt.grid(True)\n",
        "plt.show()"
      ]
    },
    {
      "cell_type": "markdown",
      "metadata": {
        "id": "PcfhPStZDWEg"
      },
      "source": [
        "```\n",
        "\n",
        "(b) The answer is as follows:\n",
        "\n",
        "1. The mean is 6.72. The mean is affected by outliers, and hence, is greater than the median indicating a right-skewed distribution.\n",
        "2. The median is 5.9. Most of the values lie between the range 4 and 6, hence, the median is within this range.\n",
        "3. The standard deviation is approximately 3.4. The standard deviation is high due to the presence of outliers in the range of 14 and 16, leading to high variability.\n",
        "\n",
        "```"
      ]
    },
    {
      "cell_type": "code",
      "execution_count": 3,
      "metadata": {
        "colab": {
          "base_uri": "https://localhost:8080/"
        },
        "id": "ZGbd1zHIDWEg",
        "outputId": "3d3446e7-ec19-45f0-9512-baa06462b8f3"
      },
      "outputs": [
        {
          "name": "stdout",
          "output_type": "stream",
          "text": [
            "Mean: 6.717142857142858\n",
            "Median: 5.9\n",
            "Standard Deviation: 3.3569493954627134\n"
          ]
        }
      ],
      "source": [
        "print(f\"Mean: {carbon_west_data['CO2'].mean()}\")\n",
        "print(f\"Median: {carbon_west_data['CO2'].median()}\")\n",
        "print(f\"Standard Deviation: {carbon_west_data['CO2'].std()}\")"
      ]
    },
    {
      "cell_type": "markdown",
      "metadata": {
        "id": "xYoqJo1bDWEg"
      },
      "source": [
        "## **Problem # 1.11.**\n",
        "According to Statistics Canada, for the Canadian population having income in 2019, annual income had a median of `$`35,000 and mean of `$`46,700. What would you predict about the shape of the distribution? Why?\n"
      ]
    },
    {
      "cell_type": "markdown",
      "metadata": {
        "id": "Kb79q8uaDWEg"
      },
      "source": [
        "```\n",
        "\n",
        "Since, the median is less than the mean, the shape of the distribution is likely right-skewed.\n",
        "\n",
        "In a right-skewed dataset, the mean will be affected by the outliers, but the median will be robust to outliers. Given that the median is $35,000 and the mean is $46,700, it is highly likely that there are high value outliers present in the dataset which resulted in increase in the mean value while most of the data is clustered around lower values less than $46,700, resulting in a long tail extending towards the higher values of the dataset.\n",
        "\n",
        "```"
      ]
    },
    {
      "cell_type": "markdown",
      "metadata": {
        "id": "PjpvwvKnDWEg"
      },
      "source": [
        "## **Problem # 1.13.**\n",
        "A report indicates that public school teacher’s annual salaries in New York city have an approximate  mean of `$`69,000 and standard deviation of `$`6,000. If the distribution has approximately a bell shape, report intervals that contain about (a) 68%, (b) 95%, (c) all or nearly all salaries. Would a salary of  `$`100,000 be unusual? Why?\n"
      ]
    },
    {
      "cell_type": "markdown",
      "metadata": {
        "id": "qFYCxGG8DWEg"
      },
      "source": [
        "```\n",
        "\n",
        "(a) About 68% of the salaries lie between $63,000 and $75,000.\n",
        "(b) About 95% of the salaries lie between $57,000 and $81,000.\n",
        "(c) All or nearly all salaries lie between $51,000 and $87,000.\n",
        "\n",
        "Yes, it is unusual for a public school teacher to have an annual salary of $100,000.\n",
        "According to Chebyshev's inequality, for any k >= 1, the proportion of observations that fall at least k standard deviations from the mean can be no greater than (1 / k^2), which means 1 - (1 / k^2) values lie within this range..\n",
        "Let's say, we consider k = 5. In this case, 96% of the values lie within the range of $39,000 and $99,000. Clearly, $100,000 lies outside this range and hence, can be considered as an outlier.\n",
        "\n",
        "```"
      ]
    },
    {
      "cell_type": "code",
      "execution_count": 4,
      "metadata": {
        "colab": {
          "base_uri": "https://localhost:8080/"
        },
        "id": "npJvT5KNDWEg",
        "outputId": "0f23b09c-6068-4185-f802-328b2297dffc"
      },
      "outputs": [
        {
          "name": "stdout",
          "output_type": "stream",
          "text": [
            "68% of the salaries lie between 63000 and 75000\n",
            "95% of the salaries lie between 57000 and 81000\n",
            "All or nearly all salaries lie between 51000 and 87000\n",
            "100,000 lies outside the range 39000 and 99000\n"
          ]
        }
      ],
      "source": [
        "# Mean\n",
        "mean = 69000\n",
        "# Standard deviation\n",
        "std_dev = 6000\n",
        "\n",
        "print(f\"68% of the salaries lie between \"\n",
        "      f\"{mean - std_dev} and {mean + std_dev}\")\n",
        "print(f\"95% of the salaries lie between \"\n",
        "      f\"{mean - 2*std_dev} and {mean + 2*std_dev}\")\n",
        "print(f\"All or nearly all salaries lie between \"\n",
        "      f\"{mean - 3*std_dev} and {mean + 3*std_dev}\")\n",
        "\n",
        "print(f\"100,000 lies outside the range \"\n",
        "      f\"{mean - 5*std_dev} and {mean + 5*std_dev}\")\n",
        "\n"
      ]
    },
    {
      "cell_type": "markdown",
      "metadata": {
        "id": "7wIjvaKhDWEh"
      },
      "source": [
        "## **Problem # 1.17.**\n",
        "From the `Murder` data file ([http://stat4ds.rwth-aachen.de/data/Murder.dat](http://stat4ds.rwth-aachen.de/data/Murder.dat)) at the book’s website, use the variable murder, which is the murder rate (per 100,000 population) for each state in the U.S. in 2017 according to the FBI Uniform Crime Reports. At first, do not use the observation for D.C. (DC). Using software:  \n",
        "(a) Find the mean and standard deviation and interpret their values.  \n",
        "(b) Find the five-number summary, and construct the corresponding box plot. Interpret.  \n",
        "(c) Now include the observation for D.C. What is affected more by this outlier: The mean or the median? The range or the inter-quartile range?"
      ]
    },
    {
      "cell_type": "markdown",
      "metadata": {
        "id": "wwITij4bDWEh"
      },
      "source": [
        "**Answer:**"
      ]
    },
    {
      "cell_type": "markdown",
      "metadata": {
        "id": "pZTVHoIBDWEh"
      },
      "source": [
        "```\n",
        "\n",
        "(a) Excluding the record for DC, the mean and standard deviation for the variable murder are 4.87 and 2.59 respectively. The mean represents that on average, the murder rate across states in the U.S is 4.87. The standard deviation represents that the murder rates tend to fall within 2.59 above or below the mean (i.e., 2.28 and 7.46).\n",
        "\n",
        "```"
      ]
    },
    {
      "cell_type": "code",
      "execution_count": 5,
      "metadata": {
        "id": "OGzp0FTmDWEh"
      },
      "outputs": [],
      "source": [
        "import pandas as pd\n",
        "\n",
        "# Load the data\n",
        "url = 'https://stat4ds.rwth-aachen.de/data/Murder.dat'\n",
        "murder_data = pd.read_csv(url, sep='\\s+')"
      ]
    },
    {
      "cell_type": "code",
      "execution_count": 6,
      "metadata": {
        "colab": {
          "base_uri": "https://localhost:8080/"
        },
        "id": "5LFi2Y8LDWEh",
        "outputId": "db4df0f2-dc50-4282-e1f9-c6a7607b84c6"
      },
      "outputs": [
        {
          "name": "stdout",
          "output_type": "stream",
          "text": [
            "Mean: 4.87\n",
            "Standard deviation: 2.59\n"
          ]
        }
      ],
      "source": [
        "# Exclude record with state as DC\n",
        "murder_data_excluding_DC = murder_data.drop(\n",
        "    murder_data[murder_data['state'] == 'DC'].index)\n",
        "# Get the \"murder\" column from the new data with DC excluded\n",
        "murder_col = murder_data_excluding_DC['murder']\n",
        "\n",
        "print(f\"Mean: {murder_col.mean():.2f}\")\n",
        "print(f\"Standard deviation: {murder_col.std():.2f}\")"
      ]
    },
    {
      "cell_type": "markdown",
      "metadata": {
        "id": "GE5GAJu0DWEh"
      },
      "source": [
        "```\n",
        "\n",
        "(b) The box plot interpretations are as follows:\n",
        "\n",
        "2. The middle 50% of the states have murder rates between 2.6 and 6.2 per 100,000 population.\n",
        "3. The median rate of 4.85 indicates that half the states have murder rates below this value.\n",
        "4. The data is fairly symmetric with a slight right skew as indicated by the longer upper whisker and an outlier of 12.4.\n",
        "5. The outlier suggests that one state has a much higher murder rate than the rest.\n",
        "6. Most states have murder rates spread between 1 and 10.\n",
        "\n",
        "```"
      ]
    },
    {
      "cell_type": "code",
      "execution_count": 7,
      "metadata": {
        "colab": {
          "base_uri": "https://localhost:8080/",
          "height": 300
        },
        "id": "f-bT7us2DWEh",
        "outputId": "cf575834-70a7-4fe4-d6ba-6cad4b86f5e9"
      },
      "outputs": [
        {
          "data": {
            "application/vnd.google.colaboratory.intrinsic+json": {
              "summary": "{\n  \"name\": \"murder_data_excluding_DC\",\n  \"rows\": 8,\n  \"fields\": [\n    {\n      \"column\": \"murder\",\n      \"properties\": {\n        \"dtype\": \"number\",\n        \"std\": 16.30512567846934,\n        \"min\": 1.0,\n        \"max\": 50.0,\n        \"num_unique_values\": 8,\n        \"samples\": [\n          4.874,\n          4.85,\n          50.0\n        ],\n        \"semantic_type\": \"\",\n        \"description\": \"\"\n      }\n    }\n  ]\n}",
              "type": "dataframe"
            },
            "text/html": [
              "\n",
              "  <div id=\"df-2ac83ea9-6b10-4a9a-acb6-c12da893d29f\" class=\"colab-df-container\">\n",
              "    <div>\n",
              "<style scoped>\n",
              "    .dataframe tbody tr th:only-of-type {\n",
              "        vertical-align: middle;\n",
              "    }\n",
              "\n",
              "    .dataframe tbody tr th {\n",
              "        vertical-align: top;\n",
              "    }\n",
              "\n",
              "    .dataframe thead th {\n",
              "        text-align: right;\n",
              "    }\n",
              "</style>\n",
              "<table border=\"1\" class=\"dataframe\">\n",
              "  <thead>\n",
              "    <tr style=\"text-align: right;\">\n",
              "      <th></th>\n",
              "      <th>murder</th>\n",
              "    </tr>\n",
              "  </thead>\n",
              "  <tbody>\n",
              "    <tr>\n",
              "      <th>count</th>\n",
              "      <td>50.000000</td>\n",
              "    </tr>\n",
              "    <tr>\n",
              "      <th>mean</th>\n",
              "      <td>4.874000</td>\n",
              "    </tr>\n",
              "    <tr>\n",
              "      <th>std</th>\n",
              "      <td>2.586291</td>\n",
              "    </tr>\n",
              "    <tr>\n",
              "      <th>min</th>\n",
              "      <td>1.000000</td>\n",
              "    </tr>\n",
              "    <tr>\n",
              "      <th>25%</th>\n",
              "      <td>2.625000</td>\n",
              "    </tr>\n",
              "    <tr>\n",
              "      <th>50%</th>\n",
              "      <td>4.850000</td>\n",
              "    </tr>\n",
              "    <tr>\n",
              "      <th>75%</th>\n",
              "      <td>6.175000</td>\n",
              "    </tr>\n",
              "    <tr>\n",
              "      <th>max</th>\n",
              "      <td>12.400000</td>\n",
              "    </tr>\n",
              "  </tbody>\n",
              "</table>\n",
              "</div>\n",
              "    <div class=\"colab-df-buttons\">\n",
              "\n",
              "  <div class=\"colab-df-container\">\n",
              "    <button class=\"colab-df-convert\" onclick=\"convertToInteractive('df-2ac83ea9-6b10-4a9a-acb6-c12da893d29f')\"\n",
              "            title=\"Convert this dataframe to an interactive table.\"\n",
              "            style=\"display:none;\">\n",
              "\n",
              "  <svg xmlns=\"http://www.w3.org/2000/svg\" height=\"24px\" viewBox=\"0 -960 960 960\">\n",
              "    <path d=\"M120-120v-720h720v720H120Zm60-500h600v-160H180v160Zm220 220h160v-160H400v160Zm0 220h160v-160H400v160ZM180-400h160v-160H180v160Zm440 0h160v-160H620v160ZM180-180h160v-160H180v160Zm440 0h160v-160H620v160Z\"/>\n",
              "  </svg>\n",
              "    </button>\n",
              "\n",
              "  <style>\n",
              "    .colab-df-container {\n",
              "      display:flex;\n",
              "      gap: 12px;\n",
              "    }\n",
              "\n",
              "    .colab-df-convert {\n",
              "      background-color: #E8F0FE;\n",
              "      border: none;\n",
              "      border-radius: 50%;\n",
              "      cursor: pointer;\n",
              "      display: none;\n",
              "      fill: #1967D2;\n",
              "      height: 32px;\n",
              "      padding: 0 0 0 0;\n",
              "      width: 32px;\n",
              "    }\n",
              "\n",
              "    .colab-df-convert:hover {\n",
              "      background-color: #E2EBFA;\n",
              "      box-shadow: 0px 1px 2px rgba(60, 64, 67, 0.3), 0px 1px 3px 1px rgba(60, 64, 67, 0.15);\n",
              "      fill: #174EA6;\n",
              "    }\n",
              "\n",
              "    .colab-df-buttons div {\n",
              "      margin-bottom: 4px;\n",
              "    }\n",
              "\n",
              "    [theme=dark] .colab-df-convert {\n",
              "      background-color: #3B4455;\n",
              "      fill: #D2E3FC;\n",
              "    }\n",
              "\n",
              "    [theme=dark] .colab-df-convert:hover {\n",
              "      background-color: #434B5C;\n",
              "      box-shadow: 0px 1px 3px 1px rgba(0, 0, 0, 0.15);\n",
              "      filter: drop-shadow(0px 1px 2px rgba(0, 0, 0, 0.3));\n",
              "      fill: #FFFFFF;\n",
              "    }\n",
              "  </style>\n",
              "\n",
              "    <script>\n",
              "      const buttonEl =\n",
              "        document.querySelector('#df-2ac83ea9-6b10-4a9a-acb6-c12da893d29f button.colab-df-convert');\n",
              "      buttonEl.style.display =\n",
              "        google.colab.kernel.accessAllowed ? 'block' : 'none';\n",
              "\n",
              "      async function convertToInteractive(key) {\n",
              "        const element = document.querySelector('#df-2ac83ea9-6b10-4a9a-acb6-c12da893d29f');\n",
              "        const dataTable =\n",
              "          await google.colab.kernel.invokeFunction('convertToInteractive',\n",
              "                                                    [key], {});\n",
              "        if (!dataTable) return;\n",
              "\n",
              "        const docLinkHtml = 'Like what you see? Visit the ' +\n",
              "          '<a target=\"_blank\" href=https://colab.research.google.com/notebooks/data_table.ipynb>data table notebook</a>'\n",
              "          + ' to learn more about interactive tables.';\n",
              "        element.innerHTML = '';\n",
              "        dataTable['output_type'] = 'display_data';\n",
              "        await google.colab.output.renderOutput(dataTable, element);\n",
              "        const docLink = document.createElement('div');\n",
              "        docLink.innerHTML = docLinkHtml;\n",
              "        element.appendChild(docLink);\n",
              "      }\n",
              "    </script>\n",
              "  </div>\n",
              "\n",
              "\n",
              "    <div id=\"df-56faa0f8-b87e-450f-bc9e-7ec58a6e5d79\">\n",
              "      <button class=\"colab-df-quickchart\" onclick=\"quickchart('df-56faa0f8-b87e-450f-bc9e-7ec58a6e5d79')\"\n",
              "                title=\"Suggest charts\"\n",
              "                style=\"display:none;\">\n",
              "\n",
              "<svg xmlns=\"http://www.w3.org/2000/svg\" height=\"24px\"viewBox=\"0 0 24 24\"\n",
              "     width=\"24px\">\n",
              "    <g>\n",
              "        <path d=\"M19 3H5c-1.1 0-2 .9-2 2v14c0 1.1.9 2 2 2h14c1.1 0 2-.9 2-2V5c0-1.1-.9-2-2-2zM9 17H7v-7h2v7zm4 0h-2V7h2v10zm4 0h-2v-4h2v4z\"/>\n",
              "    </g>\n",
              "</svg>\n",
              "      </button>\n",
              "\n",
              "<style>\n",
              "  .colab-df-quickchart {\n",
              "      --bg-color: #E8F0FE;\n",
              "      --fill-color: #1967D2;\n",
              "      --hover-bg-color: #E2EBFA;\n",
              "      --hover-fill-color: #174EA6;\n",
              "      --disabled-fill-color: #AAA;\n",
              "      --disabled-bg-color: #DDD;\n",
              "  }\n",
              "\n",
              "  [theme=dark] .colab-df-quickchart {\n",
              "      --bg-color: #3B4455;\n",
              "      --fill-color: #D2E3FC;\n",
              "      --hover-bg-color: #434B5C;\n",
              "      --hover-fill-color: #FFFFFF;\n",
              "      --disabled-bg-color: #3B4455;\n",
              "      --disabled-fill-color: #666;\n",
              "  }\n",
              "\n",
              "  .colab-df-quickchart {\n",
              "    background-color: var(--bg-color);\n",
              "    border: none;\n",
              "    border-radius: 50%;\n",
              "    cursor: pointer;\n",
              "    display: none;\n",
              "    fill: var(--fill-color);\n",
              "    height: 32px;\n",
              "    padding: 0;\n",
              "    width: 32px;\n",
              "  }\n",
              "\n",
              "  .colab-df-quickchart:hover {\n",
              "    background-color: var(--hover-bg-color);\n",
              "    box-shadow: 0 1px 2px rgba(60, 64, 67, 0.3), 0 1px 3px 1px rgba(60, 64, 67, 0.15);\n",
              "    fill: var(--button-hover-fill-color);\n",
              "  }\n",
              "\n",
              "  .colab-df-quickchart-complete:disabled,\n",
              "  .colab-df-quickchart-complete:disabled:hover {\n",
              "    background-color: var(--disabled-bg-color);\n",
              "    fill: var(--disabled-fill-color);\n",
              "    box-shadow: none;\n",
              "  }\n",
              "\n",
              "  .colab-df-spinner {\n",
              "    border: 2px solid var(--fill-color);\n",
              "    border-color: transparent;\n",
              "    border-bottom-color: var(--fill-color);\n",
              "    animation:\n",
              "      spin 1s steps(1) infinite;\n",
              "  }\n",
              "\n",
              "  @keyframes spin {\n",
              "    0% {\n",
              "      border-color: transparent;\n",
              "      border-bottom-color: var(--fill-color);\n",
              "      border-left-color: var(--fill-color);\n",
              "    }\n",
              "    20% {\n",
              "      border-color: transparent;\n",
              "      border-left-color: var(--fill-color);\n",
              "      border-top-color: var(--fill-color);\n",
              "    }\n",
              "    30% {\n",
              "      border-color: transparent;\n",
              "      border-left-color: var(--fill-color);\n",
              "      border-top-color: var(--fill-color);\n",
              "      border-right-color: var(--fill-color);\n",
              "    }\n",
              "    40% {\n",
              "      border-color: transparent;\n",
              "      border-right-color: var(--fill-color);\n",
              "      border-top-color: var(--fill-color);\n",
              "    }\n",
              "    60% {\n",
              "      border-color: transparent;\n",
              "      border-right-color: var(--fill-color);\n",
              "    }\n",
              "    80% {\n",
              "      border-color: transparent;\n",
              "      border-right-color: var(--fill-color);\n",
              "      border-bottom-color: var(--fill-color);\n",
              "    }\n",
              "    90% {\n",
              "      border-color: transparent;\n",
              "      border-bottom-color: var(--fill-color);\n",
              "    }\n",
              "  }\n",
              "</style>\n",
              "\n",
              "      <script>\n",
              "        async function quickchart(key) {\n",
              "          const quickchartButtonEl =\n",
              "            document.querySelector('#' + key + ' button');\n",
              "          quickchartButtonEl.disabled = true;  // To prevent multiple clicks.\n",
              "          quickchartButtonEl.classList.add('colab-df-spinner');\n",
              "          try {\n",
              "            const charts = await google.colab.kernel.invokeFunction(\n",
              "                'suggestCharts', [key], {});\n",
              "          } catch (error) {\n",
              "            console.error('Error during call to suggestCharts:', error);\n",
              "          }\n",
              "          quickchartButtonEl.classList.remove('colab-df-spinner');\n",
              "          quickchartButtonEl.classList.add('colab-df-quickchart-complete');\n",
              "        }\n",
              "        (() => {\n",
              "          let quickchartButtonEl =\n",
              "            document.querySelector('#df-56faa0f8-b87e-450f-bc9e-7ec58a6e5d79 button');\n",
              "          quickchartButtonEl.style.display =\n",
              "            google.colab.kernel.accessAllowed ? 'block' : 'none';\n",
              "        })();\n",
              "      </script>\n",
              "    </div>\n",
              "\n",
              "    </div>\n",
              "  </div>\n"
            ],
            "text/plain": [
              "          murder\n",
              "count  50.000000\n",
              "mean    4.874000\n",
              "std     2.586291\n",
              "min     1.000000\n",
              "25%     2.625000\n",
              "50%     4.850000\n",
              "75%     6.175000\n",
              "max    12.400000"
            ]
          },
          "execution_count": 7,
          "metadata": {},
          "output_type": "execute_result"
        }
      ],
      "source": [
        "murder_data_excluding_DC.describe()"
      ]
    },
    {
      "cell_type": "code",
      "execution_count": 8,
      "metadata": {
        "colab": {
          "base_uri": "https://localhost:8080/",
          "height": 449
        },
        "id": "IGB8awWkDWEi",
        "outputId": "0b7712fd-4bbc-4c1a-af18-3290b385d83e"
      },
      "outputs": [
        {
          "data": {
            "image/png": "[encoded data removed]",
            "text/plain": [
              "<Figure size 640x480 with 1 Axes>"
            ]
          },
          "metadata": {},
          "output_type": "display_data"
        }
      ],
      "source": [
        "# Create a box plot for column \"murder\"\n",
        "# in murder data excluding DC dataset\n",
        "fig1, ax1 = plt.subplots()\n",
        "plt.xlabel('Murder Rate excluding DC')\n",
        "ax1.boxplot(murder_data_excluding_DC['murder'], vert=False)\n",
        "plt.show()"
      ]
    },
    {
      "cell_type": "markdown",
      "metadata": {
        "id": "WWNS4IBQDWEi"
      },
      "source": [
        "```\n",
        "\n",
        "(c) As per the box plot and five-number summary, with the inclusion of DC:\n",
        "\n",
        "1. Among the mean and the median, mean is affected the most with increased value as mean is sensitive to outliers.\n",
        "2. Among range and IQR, range is affected the most and is doubled as outlier expands the range.\n",
        "\n",
        "```"
      ]
    },
    {
      "cell_type": "code",
      "execution_count": 9,
      "metadata": {
        "colab": {
          "base_uri": "https://localhost:8080/",
          "height": 449
        },
        "id": "v33mEeZDDWEi",
        "outputId": "a2b36e22-ff2d-4cc0-b571-909c21cdda68"
      },
      "outputs": [
        {
          "data": {
            "image/png": "[encoded data removed]",
            "text/plain": [
              "<Figure size 640x480 with 1 Axes>"
            ]
          },
          "metadata": {},
          "output_type": "display_data"
        }
      ],
      "source": [
        "# Create a boxplot for \"murder\" column of murder data\n",
        "fig1, ax1 = plt.subplots()\n",
        "plt.xlabel('Murder Rate excluding DC')\n",
        "ax1.boxplot(murder_data['murder'], vert=False)\n",
        "plt.show()"
      ]
    },
    {
      "cell_type": "code",
      "execution_count": 10,
      "metadata": {
        "colab": {
          "base_uri": "https://localhost:8080/",
          "height": 300
        },
        "id": "4q2k00azDWEi",
        "outputId": "86645805-cfa8-48b1-9349-305173e084d3"
      },
      "outputs": [
        {
          "data": {
            "application/vnd.google.colaboratory.intrinsic+json": {
              "summary": "{\n  \"name\": \"murder_data\",\n  \"rows\": 8,\n  \"fields\": [\n    {\n      \"column\": \"murder\",\n      \"properties\": {\n        \"dtype\": \"number\",\n        \"std\": 17.199308611410082,\n        \"min\": 1.0,\n        \"max\": 51.0,\n        \"num_unique_values\": 8,\n        \"samples\": [\n          5.252941176470588,\n          5.0,\n          51.0\n        ],\n        \"semantic_type\": \"\",\n        \"description\": \"\"\n      }\n    }\n  ]\n}",
              "type": "dataframe"
            },
            "text/html": [
              "\n",
              "  <div id=\"df-7801a6dd-87e1-4263-ba84-e836c0eb2861\" class=\"colab-df-container\">\n",
              "    <div>\n",
              "<style scoped>\n",
              "    .dataframe tbody tr th:only-of-type {\n",
              "        vertical-align: middle;\n",
              "    }\n",
              "\n",
              "    .dataframe tbody tr th {\n",
              "        vertical-align: top;\n",
              "    }\n",
              "\n",
              "    .dataframe thead th {\n",
              "        text-align: right;\n",
              "    }\n",
              "</style>\n",
              "<table border=\"1\" class=\"dataframe\">\n",
              "  <thead>\n",
              "    <tr style=\"text-align: right;\">\n",
              "      <th></th>\n",
              "      <th>murder</th>\n",
              "    </tr>\n",
              "  </thead>\n",
              "  <tbody>\n",
              "    <tr>\n",
              "      <th>count</th>\n",
              "      <td>51.000000</td>\n",
              "    </tr>\n",
              "    <tr>\n",
              "      <th>mean</th>\n",
              "      <td>5.252941</td>\n",
              "    </tr>\n",
              "    <tr>\n",
              "      <th>std</th>\n",
              "      <td>3.725391</td>\n",
              "    </tr>\n",
              "    <tr>\n",
              "      <th>min</th>\n",
              "      <td>1.000000</td>\n",
              "    </tr>\n",
              "    <tr>\n",
              "      <th>25%</th>\n",
              "      <td>2.650000</td>\n",
              "    </tr>\n",
              "    <tr>\n",
              "      <th>50%</th>\n",
              "      <td>5.000000</td>\n",
              "    </tr>\n",
              "    <tr>\n",
              "      <th>75%</th>\n",
              "      <td>6.450000</td>\n",
              "    </tr>\n",
              "    <tr>\n",
              "      <th>max</th>\n",
              "      <td>24.200000</td>\n",
              "    </tr>\n",
              "  </tbody>\n",
              "</table>\n",
              "</div>\n",
              "    <div class=\"colab-df-buttons\">\n",
              "\n",
              "  <div class=\"colab-df-container\">\n",
              "    <button class=\"colab-df-convert\" onclick=\"convertToInteractive('df-7801a6dd-87e1-4263-ba84-e836c0eb2861')\"\n",
              "            title=\"Convert this dataframe to an interactive table.\"\n",
              "            style=\"display:none;\">\n",
              "\n",
              "  <svg xmlns=\"http://www.w3.org/2000/svg\" height=\"24px\" viewBox=\"0 -960 960 960\">\n",
              "    <path d=\"M120-120v-720h720v720H120Zm60-500h600v-160H180v160Zm220 220h160v-160H400v160Zm0 220h160v-160H400v160ZM180-400h160v-160H180v160Zm440 0h160v-160H620v160ZM180-180h160v-160H180v160Zm440 0h160v-160H620v160Z\"/>\n",
              "  </svg>\n",
              "    </button>\n",
              "\n",
              "  <style>\n",
              "    .colab-df-container {\n",
              "      display:flex;\n",
              "      gap: 12px;\n",
              "    }\n",
              "\n",
              "    .colab-df-convert {\n",
              "      background-color: #E8F0FE;\n",
              "      border: none;\n",
              "      border-radius: 50%;\n",
              "      cursor: pointer;\n",
              "      display: none;\n",
              "      fill: #1967D2;\n",
              "      height: 32px;\n",
              "      padding: 0 0 0 0;\n",
              "      width: 32px;\n",
              "    }\n",
              "\n",
              "    .colab-df-convert:hover {\n",
              "      background-color: #E2EBFA;\n",
              "      box-shadow: 0px 1px 2px rgba(60, 64, 67, 0.3), 0px 1px 3px 1px rgba(60, 64, 67, 0.15);\n",
              "      fill: #174EA6;\n",
              "    }\n",
              "\n",
              "    .colab-df-buttons div {\n",
              "      margin-bottom: 4px;\n",
              "    }\n",
              "\n",
              "    [theme=dark] .colab-df-convert {\n",
              "      background-color: #3B4455;\n",
              "      fill: #D2E3FC;\n",
              "    }\n",
              "\n",
              "    [theme=dark] .colab-df-convert:hover {\n",
              "      background-color: #434B5C;\n",
              "      box-shadow: 0px 1px 3px 1px rgba(0, 0, 0, 0.15);\n",
              "      filter: drop-shadow(0px 1px 2px rgba(0, 0, 0, 0.3));\n",
              "      fill: #FFFFFF;\n",
              "    }\n",
              "  </style>\n",
              "\n",
              "    <script>\n",
              "      const buttonEl =\n",
              "        document.querySelector('#df-7801a6dd-87e1-4263-ba84-e836c0eb2861 button.colab-df-convert');\n",
              "      buttonEl.style.display =\n",
              "        google.colab.kernel.accessAllowed ? 'block' : 'none';\n",
              "\n",
              "      async function convertToInteractive(key) {\n",
              "        const element = document.querySelector('#df-7801a6dd-87e1-4263-ba84-e836c0eb2861');\n",
              "        const dataTable =\n",
              "          await google.colab.kernel.invokeFunction('convertToInteractive',\n",
              "                                                    [key], {});\n",
              "        if (!dataTable) return;\n",
              "\n",
              "        const docLinkHtml = 'Like what you see? Visit the ' +\n",
              "          '<a target=\"_blank\" href=https://colab.research.google.com/notebooks/data_table.ipynb>data table notebook</a>'\n",
              "          + ' to learn more about interactive tables.';\n",
              "        element.innerHTML = '';\n",
              "        dataTable['output_type'] = 'display_data';\n",
              "        await google.colab.output.renderOutput(dataTable, element);\n",
              "        const docLink = document.createElement('div');\n",
              "        docLink.innerHTML = docLinkHtml;\n",
              "        element.appendChild(docLink);\n",
              "      }\n",
              "    </script>\n",
              "  </div>\n",
              "\n",
              "\n",
              "    <div id=\"df-e0f28cb2-1edc-4c95-b6d3-2325d9685c21\">\n",
              "      <button class=\"colab-df-quickchart\" onclick=\"quickchart('df-e0f28cb2-1edc-4c95-b6d3-2325d9685c21')\"\n",
              "                title=\"Suggest charts\"\n",
              "                style=\"display:none;\">\n",
              "\n",
              "<svg xmlns=\"http://www.w3.org/2000/svg\" height=\"24px\"viewBox=\"0 0 24 24\"\n",
              "     width=\"24px\">\n",
              "    <g>\n",
              "        <path d=\"M19 3H5c-1.1 0-2 .9-2 2v14c0 1.1.9 2 2 2h14c1.1 0 2-.9 2-2V5c0-1.1-.9-2-2-2zM9 17H7v-7h2v7zm4 0h-2V7h2v10zm4 0h-2v-4h2v4z\"/>\n",
              "    </g>\n",
              "</svg>\n",
              "      </button>\n",
              "\n",
              "<style>\n",
              "  .colab-df-quickchart {\n",
              "      --bg-color: #E8F0FE;\n",
              "      --fill-color: #1967D2;\n",
              "      --hover-bg-color: #E2EBFA;\n",
              "      --hover-fill-color: #174EA6;\n",
              "      --disabled-fill-color: #AAA;\n",
              "      --disabled-bg-color: #DDD;\n",
              "  }\n",
              "\n",
              "  [theme=dark] .colab-df-quickchart {\n",
              "      --bg-color: #3B4455;\n",
              "      --fill-color: #D2E3FC;\n",
              "      --hover-bg-color: #434B5C;\n",
              "      --hover-fill-color: #FFFFFF;\n",
              "      --disabled-bg-color: #3B4455;\n",
              "      --disabled-fill-color: #666;\n",
              "  }\n",
              "\n",
              "  .colab-df-quickchart {\n",
              "    background-color: var(--bg-color);\n",
              "    border: none;\n",
              "    border-radius: 50%;\n",
              "    cursor: pointer;\n",
              "    display: none;\n",
              "    fill: var(--fill-color);\n",
              "    height: 32px;\n",
              "    padding: 0;\n",
              "    width: 32px;\n",
              "  }\n",
              "\n",
              "  .colab-df-quickchart:hover {\n",
              "    background-color: var(--hover-bg-color);\n",
              "    box-shadow: 0 1px 2px rgba(60, 64, 67, 0.3), 0 1px 3px 1px rgba(60, 64, 67, 0.15);\n",
              "    fill: var(--button-hover-fill-color);\n",
              "  }\n",
              "\n",
              "  .colab-df-quickchart-complete:disabled,\n",
              "  .colab-df-quickchart-complete:disabled:hover {\n",
              "    background-color: var(--disabled-bg-color);\n",
              "    fill: var(--disabled-fill-color);\n",
              "    box-shadow: none;\n",
              "  }\n",
              "\n",
              "  .colab-df-spinner {\n",
              "    border: 2px solid var(--fill-color);\n",
              "    border-color: transparent;\n",
              "    border-bottom-color: var(--fill-color);\n",
              "    animation:\n",
              "      spin 1s steps(1) infinite;\n",
              "  }\n",
              "\n",
              "  @keyframes spin {\n",
              "    0% {\n",
              "      border-color: transparent;\n",
              "      border-bottom-color: var(--fill-color);\n",
              "      border-left-color: var(--fill-color);\n",
              "    }\n",
              "    20% {\n",
              "      border-color: transparent;\n",
              "      border-left-color: var(--fill-color);\n",
              "      border-top-color: var(--fill-color);\n",
              "    }\n",
              "    30% {\n",
              "      border-color: transparent;\n",
              "      border-left-color: var(--fill-color);\n",
              "      border-top-color: var(--fill-color);\n",
              "      border-right-color: var(--fill-color);\n",
              "    }\n",
              "    40% {\n",
              "      border-color: transparent;\n",
              "      border-right-color: var(--fill-color);\n",
              "      border-top-color: var(--fill-color);\n",
              "    }\n",
              "    60% {\n",
              "      border-color: transparent;\n",
              "      border-right-color: var(--fill-color);\n",
              "    }\n",
              "    80% {\n",
              "      border-color: transparent;\n",
              "      border-right-color: var(--fill-color);\n",
              "      border-bottom-color: var(--fill-color);\n",
              "    }\n",
              "    90% {\n",
              "      border-color: transparent;\n",
              "      border-bottom-color: var(--fill-color);\n",
              "    }\n",
              "  }\n",
              "</style>\n",
              "\n",
              "      <script>\n",
              "        async function quickchart(key) {\n",
              "          const quickchartButtonEl =\n",
              "            document.querySelector('#' + key + ' button');\n",
              "          quickchartButtonEl.disabled = true;  // To prevent multiple clicks.\n",
              "          quickchartButtonEl.classList.add('colab-df-spinner');\n",
              "          try {\n",
              "            const charts = await google.colab.kernel.invokeFunction(\n",
              "                'suggestCharts', [key], {});\n",
              "          } catch (error) {\n",
              "            console.error('Error during call to suggestCharts:', error);\n",
              "          }\n",
              "          quickchartButtonEl.classList.remove('colab-df-spinner');\n",
              "          quickchartButtonEl.classList.add('colab-df-quickchart-complete');\n",
              "        }\n",
              "        (() => {\n",
              "          let quickchartButtonEl =\n",
              "            document.querySelector('#df-e0f28cb2-1edc-4c95-b6d3-2325d9685c21 button');\n",
              "          quickchartButtonEl.style.display =\n",
              "            google.colab.kernel.accessAllowed ? 'block' : 'none';\n",
              "        })();\n",
              "      </script>\n",
              "    </div>\n",
              "\n",
              "    </div>\n",
              "  </div>\n"
            ],
            "text/plain": [
              "          murder\n",
              "count  51.000000\n",
              "mean    5.252941\n",
              "std     3.725391\n",
              "min     1.000000\n",
              "25%     2.650000\n",
              "50%     5.000000\n",
              "75%     6.450000\n",
              "max    24.200000"
            ]
          },
          "execution_count": 10,
          "metadata": {},
          "output_type": "execute_result"
        }
      ],
      "source": [
        "murder_data.describe()"
      ]
    },
    {
      "cell_type": "markdown",
      "metadata": {
        "id": "6LnpaEARDWEi"
      },
      "source": [
        "## **Problem # 1.18.**\n",
        "The `Income` data file ([http://stat4ds.rwth-aachen.de/data/Income.dat](http://stat4ds.rwth-aachen.de/data/Income.dat)) at the book’s website reports annual income values in the U.S., in thousands of dollars.\n",
        "\n",
        "(a) Using software, construct a histogram. Describe its shape.  \n",
        "(b) Find descriptive statistics to summarize the data. Interpret them.  \n",
        "(c) The kernel density estimation method finds a smooth-curve approximation for a histogram. At each value, it takes into account how many observations are nearby and their distance, with more weight given those closer. Increasing the bandwidth increases the influence of observations further away. Plot a smooth-curve approximation for the histogram of income values. Summarize the impact of increasing and of decreasing the bandwidth substantially from the default value.  \n",
        "(d) Construct and interpret side-by-side box plots of income by race (B = Black, H = Hispanic, W = White).  Compare the incomes using numerical descriptive statistics"
      ]
    },
    {
      "cell_type": "markdown",
      "metadata": {
        "id": "F8EPhxGkDWEi"
      },
      "source": [
        "**Answer:**"
      ]
    },
    {
      "cell_type": "markdown",
      "metadata": {
        "id": "M_l_09TJDWEi"
      },
      "source": [
        "```\n",
        "\n",
        "(a) The histogram has the shape of a right-skewed distribution\n",
        "\n",
        "```"
      ]
    },
    {
      "cell_type": "code",
      "execution_count": 11,
      "metadata": {
        "colab": {
          "base_uri": "https://localhost:8080/",
          "height": 564
        },
        "id": "00W0vFF4DWEm",
        "outputId": "4ec684ea-2b17-4c8c-ebe3-ef4a71409235"
      },
      "outputs": [
        {
          "data": {
            "image/png": "[encoded data removed]",
            "text/plain": [
              "<Figure size 1000x600 with 1 Axes>"
            ]
          },
          "metadata": {},
          "output_type": "display_data"
        }
      ],
      "source": [
        "import pandas as pd\n",
        "import numpy as np\n",
        "import matplotlib.pyplot as plt\n",
        "\n",
        "# Load the data\n",
        "url = 'https://stat4ds.rwth-aachen.de/data/Income.dat'\n",
        "income_data = pd.read_csv(url, sep='\\s+')\n",
        "\n",
        "# Create a histogram with proportions instead of count\n",
        "plt.figure(figsize=(10, 6))\n",
        "plt.hist(income_data['income'],\n",
        "         bins=100,\n",
        "         edgecolor='black',\n",
        "         color='skyblue',\n",
        "         density=True)\n",
        "plt.title('Histogram of Income Values')\n",
        "plt.xlabel('Income (thousands of dollars)')\n",
        "plt.ylabel('Frequency')\n",
        "plt.show()"
      ]
    },
    {
      "cell_type": "markdown",
      "metadata": {
        "id": "aFWgrtEwDWEm"
      },
      "source": [
        "```\n",
        "\n",
        "(b) The interpretation based on descriptive statistics are as follows:\n",
        "\n",
        "1. Mean of 37.525 indicates that the average income is $37,525.\n",
        "2. Standard deviation of 20.67 indicates a high variability in income. Incomes vary on average by about $20,673 from the mean.\n",
        "3. The lowest income is $16,000.\n",
        "4. 25% of people earn less than $22,000.\n",
        "5. The median income is $30,000. Since, the median is lower than the mean, the data has a right-skewed distribution.\n",
        "6. 75% of people earn less than $46,500.\n",
        "7. The highest income is $120,000, which is much likely an outlier.\n",
        "\n",
        "```"
      ]
    },
    {
      "cell_type": "code",
      "execution_count": 12,
      "metadata": {
        "colab": {
          "base_uri": "https://localhost:8080/",
          "height": 335
        },
        "id": "wMi0KGKJDWEm",
        "outputId": "6650713c-556e-495a-d02c-b2d26ce18533"
      },
      "outputs": [
        {
          "data": {
            "text/html": [
              "<div>\n",
              "<style scoped>\n",
              "    .dataframe tbody tr th:only-of-type {\n",
              "        vertical-align: middle;\n",
              "    }\n",
              "\n",
              "    .dataframe tbody tr th {\n",
              "        vertical-align: top;\n",
              "    }\n",
              "\n",
              "    .dataframe thead th {\n",
              "        text-align: right;\n",
              "    }\n",
              "</style>\n",
              "<table border=\"1\" class=\"dataframe\">\n",
              "  <thead>\n",
              "    <tr style=\"text-align: right;\">\n",
              "      <th></th>\n",
              "      <th>income</th>\n",
              "    </tr>\n",
              "  </thead>\n",
              "  <tbody>\n",
              "    <tr>\n",
              "      <th>count</th>\n",
              "      <td>80.000000</td>\n",
              "    </tr>\n",
              "    <tr>\n",
              "      <th>mean</th>\n",
              "      <td>37.525000</td>\n",
              "    </tr>\n",
              "    <tr>\n",
              "      <th>std</th>\n",
              "      <td>20.672843</td>\n",
              "    </tr>\n",
              "    <tr>\n",
              "      <th>min</th>\n",
              "      <td>16.000000</td>\n",
              "    </tr>\n",
              "    <tr>\n",
              "      <th>25%</th>\n",
              "      <td>22.000000</td>\n",
              "    </tr>\n",
              "    <tr>\n",
              "      <th>50%</th>\n",
              "      <td>30.000000</td>\n",
              "    </tr>\n",
              "    <tr>\n",
              "      <th>75%</th>\n",
              "      <td>46.500000</td>\n",
              "    </tr>\n",
              "    <tr>\n",
              "      <th>max</th>\n",
              "      <td>120.000000</td>\n",
              "    </tr>\n",
              "  </tbody>\n",
              "</table>\n",
              "</div><br><label><b>dtype:</b> float64</label>"
            ],
            "text/plain": [
              "count     80.000000\n",
              "mean      37.525000\n",
              "std       20.672843\n",
              "min       16.000000\n",
              "25%       22.000000\n",
              "50%       30.000000\n",
              "75%       46.500000\n",
              "max      120.000000\n",
              "Name: income, dtype: float64"
            ]
          },
          "execution_count": 12,
          "metadata": {},
          "output_type": "execute_result"
        }
      ],
      "source": [
        "income_data['income'].describe()"
      ]
    },
    {
      "cell_type": "markdown",
      "metadata": {
        "id": "dCgnCZ4ADWEm"
      },
      "source": [
        "```\n",
        "\n",
        "(c) Effects of variation in bandwidths:\n",
        "\n",
        "1. Smaller bandwidth - The KDE plot overfits the data.\n",
        "2. Default bandwidth - The KDE plot is balanced for the data with no overfitting and underfitting.\n",
        "3. Larger bandwidth  - The KDE plot becomes too smooth hiding the skewness information.\n",
        "\n",
        "```"
      ]
    },
    {
      "cell_type": "code",
      "execution_count": 13,
      "metadata": {
        "colab": {
          "base_uri": "https://localhost:8080/",
          "height": 487
        },
        "id": "nv8c7S3YDWEm",
        "outputId": "b4d376be-c725-4ed5-fd93-5a3120e00fd4"
      },
      "outputs": [
        {
          "data": {
            "image/png": "[encoded data removed]",
            "text/plain": [
              "<Figure size 800x500 with 1 Axes>"
            ]
          },
          "metadata": {},
          "output_type": "display_data"
        }
      ],
      "source": [
        "import seaborn as sns\n",
        "\n",
        "# Create kdeplots with varying bandwidths - 1, 0.3 and 2\n",
        "plt.figure(figsize=(8, 5))\n",
        "sns.kdeplot(income_data['income'],\n",
        "            bw_adjust=1,\n",
        "            label=\"Default Bandwidth\")\n",
        "sns.kdeplot(income_data['income'],\n",
        "            bw_adjust=0.3,\n",
        "            label=\"Smaller Bandwidth\")\n",
        "sns.kdeplot(income_data['income'],\n",
        "            bw_adjust=2,\n",
        "            label=\"Larger Bandwidth\")\n",
        "plt.title(\"Kernel Density Estimation of Income\")\n",
        "plt.xlabel(\"Income (thousands of dollar)\")\n",
        "plt.ylabel(\"Density\")\n",
        "plt.legend()\n",
        "plt.grid(True)\n",
        "plt.show()"
      ]
    },
    {
      "cell_type": "markdown",
      "metadata": {
        "id": "Sq9cDMwoDWEm"
      },
      "source": [
        "```\n",
        "\n",
        "(d) Comparison of incomes based on race:\n",
        "\n",
        "1. White group have the highest mean and median, meaning they are the highest earners among the three races.\n",
        "2. Hispanic and Black groups have lower median incomes.\n",
        "3. White group distribution is right-skewed as can be seen from the long right whisker and two high income outliers.\n",
        "4. Outliers are present in all groups, but they are extreme for the White group.\n",
        "\n",
        "```"
      ]
    },
    {
      "cell_type": "code",
      "execution_count": 14,
      "metadata": {
        "colab": {
          "base_uri": "https://localhost:8080/",
          "height": 466
        },
        "id": "IB0ZCzNhDWEm",
        "outputId": "a7eefdf9-2e2e-4b0e-b812-30b17145fd18"
      },
      "outputs": [
        {
          "data": {
            "text/plain": [
              "<Axes: xlabel='income', ylabel='race'>"
            ]
          },
          "execution_count": 14,
          "metadata": {},
          "output_type": "execute_result"
        },
        {
          "data": {
            "image/png": "[encoded data removed]",
            "text/plain": [
              "<Figure size 640x480 with 1 Axes>"
            ]
          },
          "metadata": {},
          "output_type": "display_data"
        }
      ],
      "source": [
        "# Create side-by-side box plots displaying\n",
        "# variation of \"income\" against \"race\"\n",
        "sns.boxplot(x='income', y='race', data=income_data, orient='h')"
      ]
    },
    {
      "cell_type": "code",
      "execution_count": 15,
      "metadata": {
        "colab": {
          "base_uri": "https://localhost:8080/",
          "height": 175
        },
        "id": "m6EeGR9oDWEm",
        "outputId": "f0239cde-6ae7-4904-f913-f9dfdab5ac11"
      },
      "outputs": [
        {
          "data": {
            "application/vnd.google.colaboratory.intrinsic+json": {
              "summary": "{\n  \"name\": \"income_data\",\n  \"rows\": 3,\n  \"fields\": [\n    {\n      \"column\": \"race\",\n      \"properties\": {\n        \"dtype\": \"string\",\n        \"num_unique_values\": 3,\n        \"samples\": [\n          \"B\",\n          \"H\",\n          \"W\"\n        ],\n        \"semantic_type\": \"\",\n        \"description\": \"\"\n      }\n    },\n    {\n      \"column\": \"count\",\n      \"properties\": {\n        \"dtype\": \"number\",\n        \"std\": 20.231987873991358,\n        \"min\": 14.0,\n        \"max\": 50.0,\n        \"num_unique_values\": 3,\n        \"samples\": [\n          16.0,\n          14.0,\n          50.0\n        ],\n        \"semantic_type\": \"\",\n        \"description\": \"\"\n      }\n    },\n    {\n      \"column\": \"mean\",\n      \"properties\": {\n        \"dtype\": \"number\",\n        \"std\": 7.7387100561613815,\n        \"min\": 27.75,\n        \"max\": 42.48,\n        \"num_unique_values\": 3,\n        \"samples\": [\n          27.75,\n          31.0,\n          42.48\n        ],\n        \"semantic_type\": \"\",\n        \"description\": \"\"\n      }\n    },\n    {\n      \"column\": \"std\",\n      \"properties\": {\n        \"dtype\": \"number\",\n        \"std\": 5.6754598837494425,\n        \"min\": 12.812253749978813,\n        \"max\": 22.869853608662055,\n        \"num_unique_values\": 3,\n        \"samples\": [\n          13.284075679800484,\n          12.812253749978813,\n          22.869853608662055\n        ],\n        \"semantic_type\": \"\",\n        \"description\": \"\"\n      }\n    },\n    {\n      \"column\": \"min\",\n      \"properties\": {\n        \"dtype\": \"number\",\n        \"std\": 1.1547005383792515,\n        \"min\": 16.0,\n        \"max\": 18.0,\n        \"num_unique_values\": 2,\n        \"samples\": [\n          18.0,\n          16.0\n        ],\n        \"semantic_type\": \"\",\n        \"description\": \"\"\n      }\n    },\n    {\n      \"column\": \"25%\",\n      \"properties\": {\n        \"dtype\": \"number\",\n        \"std\": 2.3629078131263044,\n        \"min\": 19.5,\n        \"max\": 24.0,\n        \"num_unique_values\": 3,\n        \"samples\": [\n          19.5,\n          20.5\n        ],\n        \"semantic_type\": \"\",\n        \"description\": \"\"\n      }\n    },\n    {\n      \"column\": \"50%\",\n      \"properties\": {\n        \"dtype\": \"number\",\n        \"std\": 6.506407098647712,\n        \"min\": 24.0,\n        \"max\": 37.0,\n        \"num_unique_values\": 3,\n        \"samples\": [\n          24.0,\n          30.0\n        ],\n        \"semantic_type\": \"\",\n        \"description\": \"\"\n      }\n    },\n    {\n      \"column\": \"75%\",\n      \"properties\": {\n        \"dtype\": \"number\",\n        \"std\": 10.692676621563628,\n        \"min\": 31.0,\n        \"max\": 50.0,\n        \"num_unique_values\": 3,\n        \"samples\": [\n          31.0,\n          32.0\n        ],\n        \"semantic_type\": \"\",\n        \"description\": \"\"\n      }\n    },\n    {\n      \"column\": \"max\",\n      \"properties\": {\n        \"dtype\": \"number\",\n        \"std\": 33.724372986511305,\n        \"min\": 58.0,\n        \"max\": 120.0,\n        \"num_unique_values\": 3,\n        \"samples\": [\n          66.0,\n          58.0\n        ],\n        \"semantic_type\": \"\",\n        \"description\": \"\"\n      }\n    }\n  ]\n}",
              "type": "dataframe"
            },
            "text/html": [
              "\n",
              "  <div id=\"df-f63012d5-2eca-41ed-a3db-95156b60a1e2\" class=\"colab-df-container\">\n",
              "    <div>\n",
              "<style scoped>\n",
              "    .dataframe tbody tr th:only-of-type {\n",
              "        vertical-align: middle;\n",
              "    }\n",
              "\n",
              "    .dataframe tbody tr th {\n",
              "        vertical-align: top;\n",
              "    }\n",
              "\n",
              "    .dataframe thead th {\n",
              "        text-align: right;\n",
              "    }\n",
              "</style>\n",
              "<table border=\"1\" class=\"dataframe\">\n",
              "  <thead>\n",
              "    <tr style=\"text-align: right;\">\n",
              "      <th></th>\n",
              "      <th>count</th>\n",
              "      <th>mean</th>\n",
              "      <th>std</th>\n",
              "      <th>min</th>\n",
              "      <th>25%</th>\n",
              "      <th>50%</th>\n",
              "      <th>75%</th>\n",
              "      <th>max</th>\n",
              "    </tr>\n",
              "    <tr>\n",
              "      <th>race</th>\n",
              "      <th></th>\n",
              "      <th></th>\n",
              "      <th></th>\n",
              "      <th></th>\n",
              "      <th></th>\n",
              "      <th></th>\n",
              "      <th></th>\n",
              "      <th></th>\n",
              "    </tr>\n",
              "  </thead>\n",
              "  <tbody>\n",
              "    <tr>\n",
              "      <th>B</th>\n",
              "      <td>16.0</td>\n",
              "      <td>27.75</td>\n",
              "      <td>13.284076</td>\n",
              "      <td>16.0</td>\n",
              "      <td>19.5</td>\n",
              "      <td>24.0</td>\n",
              "      <td>31.0</td>\n",
              "      <td>66.0</td>\n",
              "    </tr>\n",
              "    <tr>\n",
              "      <th>H</th>\n",
              "      <td>14.0</td>\n",
              "      <td>31.00</td>\n",
              "      <td>12.812254</td>\n",
              "      <td>16.0</td>\n",
              "      <td>20.5</td>\n",
              "      <td>30.0</td>\n",
              "      <td>32.0</td>\n",
              "      <td>58.0</td>\n",
              "    </tr>\n",
              "    <tr>\n",
              "      <th>W</th>\n",
              "      <td>50.0</td>\n",
              "      <td>42.48</td>\n",
              "      <td>22.869854</td>\n",
              "      <td>18.0</td>\n",
              "      <td>24.0</td>\n",
              "      <td>37.0</td>\n",
              "      <td>50.0</td>\n",
              "      <td>120.0</td>\n",
              "    </tr>\n",
              "  </tbody>\n",
              "</table>\n",
              "</div>\n",
              "    <div class=\"colab-df-buttons\">\n",
              "\n",
              "  <div class=\"colab-df-container\">\n",
              "    <button class=\"colab-df-convert\" onclick=\"convertToInteractive('df-f63012d5-2eca-41ed-a3db-95156b60a1e2')\"\n",
              "            title=\"Convert this dataframe to an interactive table.\"\n",
              "            style=\"display:none;\">\n",
              "\n",
              "  <svg xmlns=\"http://www.w3.org/2000/svg\" height=\"24px\" viewBox=\"0 -960 960 960\">\n",
              "    <path d=\"M120-120v-720h720v720H120Zm60-500h600v-160H180v160Zm220 220h160v-160H400v160Zm0 220h160v-160H400v160ZM180-400h160v-160H180v160Zm440 0h160v-160H620v160ZM180-180h160v-160H180v160Zm440 0h160v-160H620v160Z\"/>\n",
              "  </svg>\n",
              "    </button>\n",
              "\n",
              "  <style>\n",
              "    .colab-df-container {\n",
              "      display:flex;\n",
              "      gap: 12px;\n",
              "    }\n",
              "\n",
              "    .colab-df-convert {\n",
              "      background-color: #E8F0FE;\n",
              "      border: none;\n",
              "      border-radius: 50%;\n",
              "      cursor: pointer;\n",
              "      display: none;\n",
              "      fill: #1967D2;\n",
              "      height: 32px;\n",
              "      padding: 0 0 0 0;\n",
              "      width: 32px;\n",
              "    }\n",
              "\n",
              "    .colab-df-convert:hover {\n",
              "      background-color: #E2EBFA;\n",
              "      box-shadow: 0px 1px 2px rgba(60, 64, 67, 0.3), 0px 1px 3px 1px rgba(60, 64, 67, 0.15);\n",
              "      fill: #174EA6;\n",
              "    }\n",
              "\n",
              "    .colab-df-buttons div {\n",
              "      margin-bottom: 4px;\n",
              "    }\n",
              "\n",
              "    [theme=dark] .colab-df-convert {\n",
              "      background-color: #3B4455;\n",
              "      fill: #D2E3FC;\n",
              "    }\n",
              "\n",
              "    [theme=dark] .colab-df-convert:hover {\n",
              "      background-color: #434B5C;\n",
              "      box-shadow: 0px 1px 3px 1px rgba(0, 0, 0, 0.15);\n",
              "      filter: drop-shadow(0px 1px 2px rgba(0, 0, 0, 0.3));\n",
              "      fill: #FFFFFF;\n",
              "    }\n",
              "  </style>\n",
              "\n",
              "    <script>\n",
              "      const buttonEl =\n",
              "        document.querySelector('#df-f63012d5-2eca-41ed-a3db-95156b60a1e2 button.colab-df-convert');\n",
              "      buttonEl.style.display =\n",
              "        google.colab.kernel.accessAllowed ? 'block' : 'none';\n",
              "\n",
              "      async function convertToInteractive(key) {\n",
              "        const element = document.querySelector('#df-f63012d5-2eca-41ed-a3db-95156b60a1e2');\n",
              "        const dataTable =\n",
              "          await google.colab.kernel.invokeFunction('convertToInteractive',\n",
              "                                                    [key], {});\n",
              "        if (!dataTable) return;\n",
              "\n",
              "        const docLinkHtml = 'Like what you see? Visit the ' +\n",
              "          '<a target=\"_blank\" href=https://colab.research.google.com/notebooks/data_table.ipynb>data table notebook</a>'\n",
              "          + ' to learn more about interactive tables.';\n",
              "        element.innerHTML = '';\n",
              "        dataTable['output_type'] = 'display_data';\n",
              "        await google.colab.output.renderOutput(dataTable, element);\n",
              "        const docLink = document.createElement('div');\n",
              "        docLink.innerHTML = docLinkHtml;\n",
              "        element.appendChild(docLink);\n",
              "      }\n",
              "    </script>\n",
              "  </div>\n",
              "\n",
              "\n",
              "    <div id=\"df-792c1643-14fc-4920-a74a-8908810905c8\">\n",
              "      <button class=\"colab-df-quickchart\" onclick=\"quickchart('df-792c1643-14fc-4920-a74a-8908810905c8')\"\n",
              "                title=\"Suggest charts\"\n",
              "                style=\"display:none;\">\n",
              "\n",
              "<svg xmlns=\"http://www.w3.org/2000/svg\" height=\"24px\"viewBox=\"0 0 24 24\"\n",
              "     width=\"24px\">\n",
              "    <g>\n",
              "        <path d=\"M19 3H5c-1.1 0-2 .9-2 2v14c0 1.1.9 2 2 2h14c1.1 0 2-.9 2-2V5c0-1.1-.9-2-2-2zM9 17H7v-7h2v7zm4 0h-2V7h2v10zm4 0h-2v-4h2v4z\"/>\n",
              "    </g>\n",
              "</svg>\n",
              "      </button>\n",
              "\n",
              "<style>\n",
              "  .colab-df-quickchart {\n",
              "      --bg-color: #E8F0FE;\n",
              "      --fill-color: #1967D2;\n",
              "      --hover-bg-color: #E2EBFA;\n",
              "      --hover-fill-color: #174EA6;\n",
              "      --disabled-fill-color: #AAA;\n",
              "      --disabled-bg-color: #DDD;\n",
              "  }\n",
              "\n",
              "  [theme=dark] .colab-df-quickchart {\n",
              "      --bg-color: #3B4455;\n",
              "      --fill-color: #D2E3FC;\n",
              "      --hover-bg-color: #434B5C;\n",
              "      --hover-fill-color: #FFFFFF;\n",
              "      --disabled-bg-color: #3B4455;\n",
              "      --disabled-fill-color: #666;\n",
              "  }\n",
              "\n",
              "  .colab-df-quickchart {\n",
              "    background-color: var(--bg-color);\n",
              "    border: none;\n",
              "    border-radius: 50%;\n",
              "    cursor: pointer;\n",
              "    display: none;\n",
              "    fill: var(--fill-color);\n",
              "    height: 32px;\n",
              "    padding: 0;\n",
              "    width: 32px;\n",
              "  }\n",
              "\n",
              "  .colab-df-quickchart:hover {\n",
              "    background-color: var(--hover-bg-color);\n",
              "    box-shadow: 0 1px 2px rgba(60, 64, 67, 0.3), 0 1px 3px 1px rgba(60, 64, 67, 0.15);\n",
              "    fill: var(--button-hover-fill-color);\n",
              "  }\n",
              "\n",
              "  .colab-df-quickchart-complete:disabled,\n",
              "  .colab-df-quickchart-complete:disabled:hover {\n",
              "    background-color: var(--disabled-bg-color);\n",
              "    fill: var(--disabled-fill-color);\n",
              "    box-shadow: none;\n",
              "  }\n",
              "\n",
              "  .colab-df-spinner {\n",
              "    border: 2px solid var(--fill-color);\n",
              "    border-color: transparent;\n",
              "    border-bottom-color: var(--fill-color);\n",
              "    animation:\n",
              "      spin 1s steps(1) infinite;\n",
              "  }\n",
              "\n",
              "  @keyframes spin {\n",
              "    0% {\n",
              "      border-color: transparent;\n",
              "      border-bottom-color: var(--fill-color);\n",
              "      border-left-color: var(--fill-color);\n",
              "    }\n",
              "    20% {\n",
              "      border-color: transparent;\n",
              "      border-left-color: var(--fill-color);\n",
              "      border-top-color: var(--fill-color);\n",
              "    }\n",
              "    30% {\n",
              "      border-color: transparent;\n",
              "      border-left-color: var(--fill-color);\n",
              "      border-top-color: var(--fill-color);\n",
              "      border-right-color: var(--fill-color);\n",
              "    }\n",
              "    40% {\n",
              "      border-color: transparent;\n",
              "      border-right-color: var(--fill-color);\n",
              "      border-top-color: var(--fill-color);\n",
              "    }\n",
              "    60% {\n",
              "      border-color: transparent;\n",
              "      border-right-color: var(--fill-color);\n",
              "    }\n",
              "    80% {\n",
              "      border-color: transparent;\n",
              "      border-right-color: var(--fill-color);\n",
              "      border-bottom-color: var(--fill-color);\n",
              "    }\n",
              "    90% {\n",
              "      border-color: transparent;\n",
              "      border-bottom-color: var(--fill-color);\n",
              "    }\n",
              "  }\n",
              "</style>\n",
              "\n",
              "      <script>\n",
              "        async function quickchart(key) {\n",
              "          const quickchartButtonEl =\n",
              "            document.querySelector('#' + key + ' button');\n",
              "          quickchartButtonEl.disabled = true;  // To prevent multiple clicks.\n",
              "          quickchartButtonEl.classList.add('colab-df-spinner');\n",
              "          try {\n",
              "            const charts = await google.colab.kernel.invokeFunction(\n",
              "                'suggestCharts', [key], {});\n",
              "          } catch (error) {\n",
              "            console.error('Error during call to suggestCharts:', error);\n",
              "          }\n",
              "          quickchartButtonEl.classList.remove('colab-df-spinner');\n",
              "          quickchartButtonEl.classList.add('colab-df-quickchart-complete');\n",
              "        }\n",
              "        (() => {\n",
              "          let quickchartButtonEl =\n",
              "            document.querySelector('#df-792c1643-14fc-4920-a74a-8908810905c8 button');\n",
              "          quickchartButtonEl.style.display =\n",
              "            google.colab.kernel.accessAllowed ? 'block' : 'none';\n",
              "        })();\n",
              "      </script>\n",
              "    </div>\n",
              "\n",
              "    </div>\n",
              "  </div>\n"
            ],
            "text/plain": [
              "      count   mean        std   min   25%   50%   75%    max\n",
              "race                                                        \n",
              "B      16.0  27.75  13.284076  16.0  19.5  24.0  31.0   66.0\n",
              "H      14.0  31.00  12.812254  16.0  20.5  30.0  32.0   58.0\n",
              "W      50.0  42.48  22.869854  18.0  24.0  37.0  50.0  120.0"
            ]
          },
          "execution_count": 15,
          "metadata": {},
          "output_type": "execute_result"
        }
      ],
      "source": [
        "income_data.groupby(\"race\")[\"income\"].describe()"
      ]
    },
    {
      "cell_type": "markdown",
      "metadata": {
        "id": "qSHb0zLhDWEm"
      },
      "source": [
        "## **Problem # 1.19.**\n",
        "The `Houses` data file ([http://stat4ds.rwth-aachen.de/data/Houses.dat](http://stat4ds.rwth-aachen.de/data/Houses.dat)) at the book’s website lists the selling price (thousands of dollars), size (square feet), tax bill (dollars), number of bathrooms, number of bedrooms, and whether the house is new (1 = yes, 0 = no) for 100 home sales in Gainesville, Florida. Let’s analyze the selling prices.\n",
        "\n",
        "(a) Construct a frequency distribution and a histogram. Describe the shape.  \n",
        "(b) Find the percentage of observations that fall within one standard deviation of the mean. Why is this not close to 68%?  \n",
        "(c) Construct a box plot, and interpret.   \n",
        "(d) Use descriptive statistics to compare selling prices according to whether the house is new.\n",
        "\n",
        "\n"
      ]
    },
    {
      "cell_type": "markdown",
      "metadata": {
        "id": "V0SIB6qlDWEm"
      },
      "source": [
        "**Answer:**"
      ]
    },
    {
      "cell_type": "markdown",
      "metadata": {
        "id": "DuUacx48DWEm"
      },
      "source": [
        "```\n",
        "\n",
        "(a) The shape of the histogram is right-skewed.\n",
        "\n",
        "```"
      ]
    },
    {
      "cell_type": "code",
      "execution_count": 16,
      "metadata": {
        "colab": {
          "base_uri": "https://localhost:8080/"
        },
        "id": "OyMI9dTwDWEm",
        "outputId": "fff1b862-d8cc-465d-f62a-96d6945baeec"
      },
      "outputs": [
        {
          "name": "stdout",
          "output_type": "stream",
          "text": [
            "price_bin\n",
            "(31.5, 78.667]         3\n",
            "(78.667, 125.833]     10\n",
            "(125.833, 173.0]      22\n",
            "(173.0, 220.167]      27\n",
            "(220.167, 267.333]    14\n",
            "(267.333, 314.5]       8\n",
            "(314.5, 361.667]       3\n",
            "(361.667, 408.833]     2\n",
            "(408.833, 456.0]       3\n",
            "(456.0, 503.167]       0\n",
            "(503.167, 550.333]     2\n",
            "(550.333, 597.5]       1\n",
            "(597.5, 644.667]       0\n",
            "(644.667, 691.833]     1\n",
            "(691.833, 739.0]       0\n",
            "(739.0, 786.167]       1\n",
            "(786.167, 833.333]     0\n",
            "(833.333, 880.5]       2\n",
            "Name: count, dtype: int64\n"
          ]
        }
      ],
      "source": [
        "import pandas as pd\n",
        "\n",
        "# Load the data\n",
        "url = 'https://stat4ds.rwth-aachen.de/data/Houses.dat'\n",
        "houses_data = pd.read_csv(url, sep='\\s+')\n",
        "\n",
        "# Create a frequency distribution of house prices\n",
        "# Get the optimal number of bins automatically\n",
        "_, bins = np.histogram(houses_data['price'], bins=\"auto\")\n",
        "# Create bins for house prices and add them as a new column\n",
        "houses_data['price_bin'] = pd.cut(houses_data['price'], bins=bins)\n",
        "\n",
        "# Count the number of observations in each bin\n",
        "# and sort in ascending order\n",
        "frequency_distribution = \\\n",
        "    houses_data['price_bin'].value_counts().sort_index()\n",
        "print(frequency_distribution)"
      ]
    },
    {
      "cell_type": "code",
      "execution_count": 17,
      "metadata": {
        "colab": {
          "base_uri": "https://localhost:8080/",
          "height": 564
        },
        "id": "OSXg0HAqDWEo",
        "outputId": "3c0425b1-272d-49db-aded-5b20702ded43"
      },
      "outputs": [
        {
          "data": {
            "image/png": "[encoded data removed]",
            "text/plain": [
              "<Figure size 1000x600 with 1 Axes>"
            ]
          },
          "metadata": {},
          "output_type": "display_data"
        }
      ],
      "source": [
        "import matplotlib.pyplot as plt\n",
        "\n",
        "# Create a histogram with counts on the y-axis\n",
        "plt.figure(figsize=(10, 6))\n",
        "plt.hist(houses_data['price'], bins=bins, edgecolor='black')\n",
        "\n",
        "# Add title and labels\n",
        "plt.title('Histogram of house prices')\n",
        "plt.xlabel('House prices')\n",
        "plt.ylabel('Number of houses')\n",
        "plt.grid(True)\n",
        "plt.show()"
      ]
    },
    {
      "cell_type": "markdown",
      "metadata": {
        "id": "x54agzciDWEo"
      },
      "source": [
        "```\n",
        "\n",
        "(b) As per the calculation below, around 85% of the observations fall within one standard deviation of the mean. This value is not close to 68% because the data is right-skewed and as such mean is influenced by the outliers and cannot be considered as a good representative of the data.\n",
        "\n",
        "```\n"
      ]
    },
    {
      "cell_type": "code",
      "execution_count": 18,
      "metadata": {
        "colab": {
          "base_uri": "https://localhost:8080/"
        },
        "id": "g4ibeSCjDWEo",
        "outputId": "3f004660-648e-4db5-9366-89822ae38a2c"
      },
      "outputs": [
        {
          "name": "stdout",
          "output_type": "stream",
          "text": [
            "Percentage of observations that fall within one standard deviation of the mean: 0.85\n"
          ]
        }
      ],
      "source": [
        "mean = houses_data['price'].mean()\n",
        "std_dev = houses_data['price'].std()\n",
        "\n",
        "# Get range for one standard deviation of the mean\n",
        "range_low = mean - std_dev\n",
        "range_high = mean + std_dev\n",
        "\n",
        "# Calculate the percentage of observations that\n",
        "# fall within one standard deviation of the mean\n",
        "percentage = \\\n",
        "    houses_data['price'].between(range_low, range_high).mean()\n",
        "print(f\"Percentage of observations that fall within \"\n",
        "      f\"one standard deviation of the mean: {percentage}\")\n"
      ]
    },
    {
      "cell_type": "markdown",
      "metadata": {
        "id": "2Xw2VbQGDWEo"
      },
      "source": [
        "```\n",
        "\n",
        "(c) The interpretation based on the box plot is as follows:\n",
        "\n",
        "1. The distribution is right-skewed due to high value outliers.\n",
        "2. Major portion of the distribution lies between $100,000 and $400,000.\n",
        "3. Many high value outliers representing houses sold at prices higher than $400,000 have significant impact on the mean of the distribution.\n",
        "\n",
        "```"
      ]
    },
    {
      "cell_type": "code",
      "execution_count": 19,
      "metadata": {
        "colab": {
          "base_uri": "https://localhost:8080/",
          "height": 449
        },
        "id": "5IKHzAuvDWEo",
        "outputId": "a6084435-72c4-44b0-c3d1-c5e744c5dbe9"
      },
      "outputs": [
        {
          "data": {
            "image/png": "[encoded data removed]",
            "text/plain": [
              "<Figure size 640x480 with 1 Axes>"
            ]
          },
          "metadata": {},
          "output_type": "display_data"
        }
      ],
      "source": [
        "# Create a box plot for house prices\n",
        "fig1, ax1 = plt.subplots()\n",
        "plt.xlabel('House prices')\n",
        "ax1.boxplot(houses_data['price'], vert=False)\n",
        "plt.show()"
      ]
    },
    {
      "cell_type": "markdown",
      "metadata": {
        "id": "OI5cYzOgDWEo"
      },
      "source": [
        "```\n",
        "\n",
        "(d) Comparison of selling prices according to whether the house is new or not:\n",
        "\n",
        "1. New houses are more expensive than the old houses as can be seen from the median values of the two distributions. The median for new houses is more than double the median for old houses.\n",
        "2. There is high variation in prices of new house as can be seen from the values of Q1, Q2 and IQR of the two distributions.\n",
        "3. Both groups have high value outliers.\n",
        "4. Old house distribution is more right-skewed as it has higher value outliers compared to new house distribution.\n",
        "5. There are only 11 counts of new houses against 89 counts of old houses. So, the data for new houses is less reliable than the data for old houses.\n",
        "\n",
        "```"
      ]
    },
    {
      "cell_type": "code",
      "execution_count": 20,
      "metadata": {
        "colab": {
          "base_uri": "https://localhost:8080/"
        },
        "id": "jJIj5Oi6DWEo",
        "outputId": "75a8bd9c-184e-4b93-8894-d9c545dbfa56"
      },
      "outputs": [
        {
          "name": "stdout",
          "output_type": "stream",
          "text": [
            "New houses\n",
            "count     11.000000\n",
            "mean     436.445455\n",
            "std      219.832789\n",
            "min      158.850000\n",
            "25%      256.950000\n",
            "50%      427.500000\n",
            "75%      519.675000\n",
            "max      866.250000\n",
            "Name: price, dtype: float64\n",
            "--------------------------------\n",
            "Old houses\n",
            "count     89.000000\n",
            "mean     207.851124\n",
            "std      121.039149\n",
            "min       31.500000\n",
            "25%      135.000000\n",
            "50%      190.800000\n",
            "75%      240.000000\n",
            "max      880.500000\n",
            "Name: price, dtype: float64\n"
          ]
        }
      ],
      "source": [
        "# Get collection of new houses\n",
        "new_houses = houses_data[houses_data['new'] == 1]\n",
        "# Get collection of old houses\n",
        "old_houses = houses_data[houses_data['new'] == 0]\n",
        "\n",
        "print(\"New houses\")\n",
        "print(new_houses['price'].describe())\n",
        "print(\"--------------------------------\")\n",
        "print(\"Old houses\")\n",
        "print(old_houses['price'].describe())\n"
      ]
    }
  ],
  "metadata": {
    "colab": {
      "provenance": []
    },
    "kernelspec": {
      "display_name": "Python 3",
      "language": "python",
      "name": "python3"
    },
    "language_info": {
      "codemirror_mode": {
        "name": "ipython",
        "version": 3
      },
      "file_extension": ".py",
      "mimetype": "text/x-python",
      "name": "python",
      "nbconvert_exporter": "python",
      "pygments_lexer": "ipython3",
      "version": "3.12.0"
    }
  },
  "nbformat": 4,
  "nbformat_minor": 0
}
